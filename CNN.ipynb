{
  "nbformat": 4,
  "nbformat_minor": 0,
  "metadata": {
    "colab": {
      "name": "CNN1.ipynb",
      "private_outputs": true,
      "provenance": [],
      "collapsed_sections": []
    },
    "kernelspec": {
      "name": "python3",
      "display_name": "Python 3"
    },
    "language_info": {
      "name": "python"
    },
    "accelerator": "GPU"
  },
  "cells": [
    {
      "cell_type": "code",
      "metadata": {
        "id": "xxKE-hPmtzeZ"
      },
      "source": [
        "!pip3 install tensorflow-gpu==2.2.0 "
      ],
      "execution_count": null,
      "outputs": []
    },
    {
      "cell_type": "code",
      "metadata": {
        "id": "h6r11xYsuIZV"
      },
      "source": [
        "from google.colab import drive\n",
        "drive.mount('/content/drive')"
      ],
      "execution_count": null,
      "outputs": []
    },
    {
      "cell_type": "code",
      "metadata": {
        "id": "vTsFyqjAuZ8W"
      },
      "source": [
        "%cd /content/drive/MyDrive/CNN_VGG/\n",
        "!ls"
      ],
      "execution_count": null,
      "outputs": []
    },
    {
      "cell_type": "code",
      "metadata": {
        "id": "5Tna7BC2uaE8"
      },
      "source": [
        "# define some variables for later usage\n",
        "epochs = 50\n",
        "img_size = 150\n",
        "batch_size = 32"
      ],
      "execution_count": null,
      "outputs": []
    },
    {
      "cell_type": "code",
      "metadata": {
        "id": "keLUqD4Sur_U"
      },
      "source": [
        "data_dir = \"/content/drive/MyDrive/CNN_VGG/\"\n",
        "TEST = '/CNN_VGG/Test/'\n",
        "TRAIN = '/CNN_VGG/Train/'"
      ],
      "execution_count": null,
      "outputs": []
    },
    {
      "cell_type": "code",
      "metadata": {
        "id": "UbNe-f3Bvp6u"
      },
      "source": [
        "# import required libraries\n",
        "import os\n",
        "import cv2\n",
        "import numpy as np\n",
        "import matplotlib.pyplot as plt\n",
        "#import keras.layers.experimental.preprocessing\n",
        "#from keras.models import Sequential\n",
        "from keras.preprocessing import image\n",
        "from mlxtend.plotting import plot_confusion_matrix\n",
        "from keras.preprocessing.image import ImageDataGenerator\n",
        "from sklearn.metrics import accuracy_score, confusion_matrix\n",
        "\n",
        "from keras.layers import Dense, Conv2D, Dropout, Flatten, Activation\n",
        "from keras.layers import SeparableConv2D, MaxPool2D, BatchNormalization\n",
        "from keras.callbacks import ModelCheckpoint, ReduceLROnPlateau, EarlyStopping\n",
        "\n",
        "from keras.models import Sequential\n",
        "from keras.layers import Conv2D\n",
        "from keras.layers import MaxPooling2D\n",
        "from keras.layers import Flatten\n",
        "from keras.layers import Dense\n",
        "from keras.preprocessing.image import ImageDataGenerator\n",
        "\n",
        "import numpy as np\n",
        "import pandas as pd\n",
        "import matplotlib.pyplot as plt\n",
        "import seaborn as sns\n",
        "%matplotlib inline"
      ],
      "execution_count": null,
      "outputs": []
    },
    {
      "cell_type": "code",
      "metadata": {
        "id": "Q6a1Ap2iusD5"
      },
      "source": [
        "from tensorflow.keras.preprocessing.image import ImageDataGenerator\n",
        "import os\n",
        "train_datagen = ImageDataGenerator(rescale = 1./255,shear_range = 0.2,zoom_range = 0.2,horizontal_flip = True,vertical_flip = True)\n",
        "test_datagen = ImageDataGenerator(rescale = 1./255)\n",
        "training_set = train_datagen.flow_from_directory(data_dir + '/Train',target_size = (150, 150),batch_size = 8,color_mode=\"rgb\",class_mode = 'categorical',shuffle=True)\n",
        "test_set = test_datagen.flow_from_directory(data_dir + '/Test',target_size = (150, 150),batch_size = 8,color_mode=\"rgb\",class_mode = 'categorical',shuffle=True)"
      ],
      "execution_count": null,
      "outputs": []
    },
    {
      "cell_type": "code",
      "metadata": {
        "id": "ARs6v8ZCusWt"
      },
      "source": [
        "training_set.labels"
      ],
      "execution_count": null,
      "outputs": []
    },
    {
      "cell_type": "code",
      "metadata": {
        "id": "SYoTQtMvwnVK"
      },
      "source": [
        "cnn = Sequential()\n",
        "cnn.add(Conv2D(32, (3,3), input_shape=(150,150,3), activation='relu'))\n",
        "cnn.add(MaxPooling2D(pool_size=(2,2)))\n",
        "\n",
        "cnn.add(Conv2D(64, (3, 3), activation = 'relu'))\n",
        "cnn.add(Conv2D(64, (3, 3), activation = 'relu'))\n",
        "cnn.add(Conv2D(64, (3, 3), activation = 'relu'))\n",
        "cnn.add(MaxPooling2D(pool_size = (2, 2)))\n",
        "\n",
        "cnn.add(Flatten())\n",
        "\n",
        "cnn.add(Dense(units = 128, activation = 'relu'))\n",
        "cnn.add(Dense(units = 128, activation = 'relu'))\n",
        "cnn.add(Dense(units = 128, activation = 'relu'))\n",
        "cnn.add(Dense(units = 128, activation = 'relu'))\n",
        "cnn.add(Dense(units = 3, activation = 'softmax'))\n",
        "cnn.compile(optimizer = 'adam', loss = 'categorical_crossentropy', metrics = ['accuracy'])"
      ],
      "execution_count": null,
      "outputs": []
    },
    {
      "cell_type": "code",
      "metadata": {
        "id": "TOj0rG9Lusbt"
      },
      "source": [
        "history = cnn.fit_generator(training_set,\n",
        "                         steps_per_epoch = training_set.samples//8,\n",
        "                         epochs = 5,\n",
        "                         validation_data = test_set,\n",
        "                         validation_steps = test_set.samples//8)"
      ],
      "execution_count": null,
      "outputs": []
    },
    {
      "cell_type": "code",
      "metadata": {
        "id": "7NNdWQb-mZDK"
      },
      "source": [
        "\n",
        "import cv2\n",
        "import numpy as np\n",
        "\n",
        "img = cv2.imread('/content/drive/MyDrive/CNN_VGG/Test/Fire/image_0.jpg')\n",
        "\n",
        "plt.imshow(img)\n",
        "img = cv2.resize(img,(150,150))\n",
        "img = np.reshape(img,[1,150,150,3])\n",
        "\n",
        "classes = cnn.predict_classes(img)\n",
        "\n",
        "print(classes)\n",
        "\n"
      ],
      "execution_count": null,
      "outputs": []
    },
    {
      "cell_type": "code",
      "metadata": {
        "id": "cvrhq0XM73Xa"
      },
      "source": [
        "cnn.summary()"
      ],
      "execution_count": null,
      "outputs": []
    },
    {
      "cell_type": "code",
      "metadata": {
        "id": "z7X4cxSv4iGh"
      },
      "source": [
        "N = 5\n",
        "plt.figure(figsize=(12,6))\n",
        "plt.plot(np.arange(0, N), history.history['loss'], label=\"train_loss\")\n",
        "plt.plot(np.arange(0, N), history.history['val_loss'],label=\"val_loss\")\n",
        "plt.plot(np.arange(0, N), history.history[\"accuracy\"], label=\"train_acc\")\n",
        "plt.plot(np.arange(0, N), history.history[\"val_accuracy\"], label=\"val_acc\")\n",
        "plt.title('Model Train vs Validation Loss')\n",
        "plt.ylabel('Loss/Accuracy')\n",
        "plt.xlabel('Epoch')\n",
        "plt.legend(loc=\"best\")\n",
        "plt.show()"
      ],
      "execution_count": null,
      "outputs": []
    },
    {
      "cell_type": "code",
      "metadata": {
        "id": "qsFqbgfZ4iav"
      },
      "source": [
        "test_set.labels"
      ],
      "execution_count": null,
      "outputs": []
    },
    {
      "cell_type": "code",
      "metadata": {
        "id": "ZbY5eyBu4iqa"
      },
      "source": [
        "fig, ax = plt.subplots(1, 2, figsize = (10, 3))\n",
        "ax = ax.ravel()\n",
        "\n",
        "for i, met in enumerate(['accuracy', 'loss']):\n",
        "    ax[i].plot(history.history[met])\n",
        "    ax[i].plot(history.history['val_' + met])\n",
        "    ax[i].set_title('Model {}'.format(met))\n",
        "    ax[i].set_xlabel('epochs')\n",
        "    ax[i].set_ylabel(met)\n",
        "    ax[i].legend(['train', 'val'])"
      ],
      "execution_count": null,
      "outputs": []
    },
    {
      "cell_type": "code",
      "metadata": {
        "id": "g-UjVlt646QS"
      },
      "source": [
        "test_data = []\n",
        "test_labels = []\n",
        "\n",
        "for title in ['/Fire/', '/Neutral/','/Smoke/']:\n",
        "        for img in (os.listdir(data_dir + 'Test/' + title)):\n",
        "            img = plt.imread(data_dir + 'Test/' + title + img)\n",
        "            img = cv2.resize(img, (img_size, img_size))\n",
        "            img = np.dstack([img, img, img])\n",
        "            img = img.astype('float32') / 255\n",
        "            if title == '/Fire/':\n",
        "                label = 0\n",
        "            elif title == '/Neutral/':\n",
        "                label = 1\n",
        "            elif title == '/Smoke/':\n",
        "                label = 2\n",
        "            test_data.append(img)\n",
        "            test_labels.append(label)\n",
        "        \n",
        "test_data = np.array(test_data)\n",
        "test_labels = np.array(test_labels)\n",
        "\n",
        "# get predictions\n",
        "preds = cnn.predict(test_data)\n",
        "\n",
        "acc = accuracy_score(test_labels, np.round(preds))*100\n",
        "\n",
        "# get the confusion matrix\n",
        "mat = confusion_matrix(test_labels, np.round(preds))"
      ],
      "execution_count": null,
      "outputs": []
    },
    {
      "cell_type": "code",
      "metadata": {
        "id": "3LYVt8FU46fg"
      },
      "source": [
        "print('Train Metric:')\n",
        "print('Train accuracy: {}%'.format(np.round(history.history['accuracy'][-1]*100, 2)))\n",
        "\n",
        "#model.fit(X=x_train, Y=y_train, epoch=2)\n",
        "model.evaluate(training_set)\n",
        "image_index=444\n",
        "plt.imshow(test_set[image_index].reshape(28,28),cmap='Greys')\n",
        "pred=model.predict(test_set[image_index].reshape(1,28,28,1))\n",
        "print(pred.argmax())\n"
      ],
      "execution_count": null,
      "outputs": []
    }
  ]
}